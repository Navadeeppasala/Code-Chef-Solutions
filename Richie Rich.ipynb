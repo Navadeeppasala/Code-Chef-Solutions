{
 "cells": [
  {
   "cell_type": "markdown",
   "id": "8a24b2cc",
   "metadata": {},
   "source": [
    "# <center> Richie Rich"
   ]
  },
  {
   "cell_type": "markdown",
   "id": "b2637888",
   "metadata": {},
   "source": [
    "## Problem\n",
    "Chef aims to be the richest person in Chefland by his new restaurant franchise. Currently, his assets are worth A billion dollars and have no liabilities. He aims to increase his assets by X billion dollars per year.\n",
    "\n",
    "Also, all the richest people in Chefland are not planning to grow and maintain their current worth.\n",
    "\n",
    "To be the richest person in Chefland, he needs to be worth at least B billion dollars. How many years will it take Chef to reach his goal if his value increases by X billion dollars each year?"
   ]
  },
  {
   "cell_type": "markdown",
   "id": "3a8a741b",
   "metadata": {},
   "source": [
    "### Input\n",
    "- The first line contains an integer T, the number of test cases. Then the test cases follow.\n",
    "- Each test case contains a single line of input, three integers A, B, X."
   ]
  },
  {
   "cell_type": "markdown",
   "id": "cd3c150f",
   "metadata": {},
   "source": [
    "#### Sample Input 1\n",
    "3\n",
    "\n",
    "100 200 10\n",
    "\n",
    "111 199 11\n",
    "\n",
    "190 200 10\n",
    "\n",
    "#### Sample Output 1 \n",
    "10\n",
    "\n",
    "8\n",
    "\n",
    "1"
   ]
  },
  {
   "cell_type": "code",
   "execution_count": 3,
   "id": "04aef3da",
   "metadata": {},
   "outputs": [
    {
     "name": "stdout",
     "output_type": "stream",
     "text": [
      "3\n",
      "100 200 10\n",
      "10\n",
      "111 199 11\n",
      "8\n",
      "190 200 10\n",
      "1\n"
     ]
    }
   ],
   "source": [
    "test_case = int(input())\n",
    "for i in range(test_case):\n",
    "    a,b,x = input().split()\n",
    "    output = (int(b)-int(a))/int(x)\n",
    "    print(int(output))"
   ]
  },
  {
   "cell_type": "code",
   "execution_count": null,
   "id": "8ffa2daf",
   "metadata": {},
   "outputs": [],
   "source": []
  }
 ],
 "metadata": {
  "kernelspec": {
   "display_name": "Python 3 (ipykernel)",
   "language": "python",
   "name": "python3"
  },
  "language_info": {
   "codemirror_mode": {
    "name": "ipython",
    "version": 3
   },
   "file_extension": ".py",
   "mimetype": "text/x-python",
   "name": "python",
   "nbconvert_exporter": "python",
   "pygments_lexer": "ipython3",
   "version": "3.9.7"
  }
 },
 "nbformat": 4,
 "nbformat_minor": 5
}
