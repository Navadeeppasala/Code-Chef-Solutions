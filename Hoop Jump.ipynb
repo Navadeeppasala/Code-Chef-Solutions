{
 "cells": [
  {
   "cell_type": "markdown",
   "id": "b522687e",
   "metadata": {},
   "source": [
    "# Hoop Jump"
   ]
  },
  {
   "cell_type": "markdown",
   "id": "611c3a02",
   "metadata": {},
   "source": [
    "## Problem\n",
    "\n",
    "You and your friend are playing a game with hoops. There are NN hoops (where NN is odd) in a row. You jump into hoop 11, and your friend jumps into hoop NN. Then you jump into hoop 22, and after that, your friend jumps into hoop N-1N−1, and so on.\n",
    "\n",
    "The process ends when someone cannot make the next jump because the hoop is occupied by the other person. Find the last hoop that will be jumped into.\n",
    "\n",
    "### Input\n",
    "- The first line contains an integer TT, the number of test cases. Then the test cases follow.\n",
    "- Each test case contains a single line of input, a single integer NN.\n",
    "\n",
    "### Output For each testcase, output in a single line the answer to the problem."
   ]
  },
  {
   "cell_type": "markdown",
   "id": "fcf7efcc",
   "metadata": {},
   "source": [
    "## Sample input\n",
    "2\n",
    "\n",
    "1\n",
    "\n",
    "3\n",
    "\n",
    "## sample output\n",
    "1\n",
    "\n",
    "2"
   ]
  },
  {
   "cell_type": "code",
   "execution_count": 2,
   "id": "f965c383",
   "metadata": {},
   "outputs": [
    {
     "name": "stdout",
     "output_type": "stream",
     "text": [
      "2\n",
      "1\n",
      "1\n",
      "3\n",
      "2\n"
     ]
    }
   ],
   "source": [
    "import math\n",
    "num = int(input())\n",
    "for i in range(num):\n",
    "    n = int(input())\n",
    "    f = n/2\n",
    "    print(math.ceil(f))"
   ]
  },
  {
   "cell_type": "code",
   "execution_count": null,
   "id": "25e826f6",
   "metadata": {},
   "outputs": [],
   "source": []
  }
 ],
 "metadata": {
  "kernelspec": {
   "display_name": "Python 3 (ipykernel)",
   "language": "python",
   "name": "python3"
  },
  "language_info": {
   "codemirror_mode": {
    "name": "ipython",
    "version": 3
   },
   "file_extension": ".py",
   "mimetype": "text/x-python",
   "name": "python",
   "nbconvert_exporter": "python",
   "pygments_lexer": "ipython3",
   "version": "3.9.7"
  }
 },
 "nbformat": 4,
 "nbformat_minor": 5
}
