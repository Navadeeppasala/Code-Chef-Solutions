{
 "cells": [
  {
   "cell_type": "markdown",
   "id": "448c7d38",
   "metadata": {},
   "source": [
    "# Chef And Operators"
   ]
  },
  {
   "cell_type": "markdown",
   "id": "3c91be18",
   "metadata": {},
   "source": [
    "### Problem\n",
    "Chef has just started Programming, he is in first year of Engineering. Chef is reading about Relational Operators.\n",
    "Relational Operators are operators which check relationship between two values. Given two numerical values A and B you need to help chef in finding the relationship between them that is,\n",
    "\n",
    "First one is greater than second or, First one is less than second or, First and second one are equal.\n",
    " \n",
    "\n",
    "### Input\n",
    "First line contains an integer T, which denotes the number of testcases. Each of the T lines contain two integers A and B.\n",
    "\n",
    "### Output\n",
    "For each line of input produce one line of output. This line contains any one of the relational operators\n",
    "'<' , '>' , '='."
   ]
  },
  {
   "cell_type": "markdown",
   "id": "28529872",
   "metadata": {},
   "source": [
    "### Sample input\n",
    "3\n",
    "\n",
    "10 20\n",
    "\n",
    "20 10\n",
    "\n",
    "10 10\n",
    "\n",
    "### Sample output\n",
    "- < \n",
    "- '>'\n",
    "- ="
   ]
  },
  {
   "cell_type": "code",
   "execution_count": 1,
   "id": "1f8a2e05",
   "metadata": {},
   "outputs": [
    {
     "name": "stdout",
     "output_type": "stream",
     "text": [
      "3\n",
      "10 20\n",
      "<\n",
      "20 10\n",
      ">\n",
      "10 10\n",
      "=\n"
     ]
    }
   ],
   "source": [
    "n = int(input())\n",
    "for i in range(n):\n",
    "    a,b = map(int,input().split())\n",
    "    if a>b:\n",
    "        print('>')\n",
    "    elif a<b:\n",
    "        print('<')\n",
    "    elif a==b:\n",
    "        print('=')"
   ]
  },
  {
   "cell_type": "code",
   "execution_count": null,
   "id": "b9e5464f",
   "metadata": {},
   "outputs": [],
   "source": []
  }
 ],
 "metadata": {
  "kernelspec": {
   "display_name": "Python 3 (ipykernel)",
   "language": "python",
   "name": "python3"
  },
  "language_info": {
   "codemirror_mode": {
    "name": "ipython",
    "version": 3
   },
   "file_extension": ".py",
   "mimetype": "text/x-python",
   "name": "python",
   "nbconvert_exporter": "python",
   "pygments_lexer": "ipython3",
   "version": "3.9.7"
  }
 },
 "nbformat": 4,
 "nbformat_minor": 5
}
