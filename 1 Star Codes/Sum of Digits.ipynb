{
 "cells": [
  {
   "cell_type": "markdown",
   "id": "bfae7991",
   "metadata": {},
   "source": [
    "# Sum of Digits"
   ]
  },
  {
   "cell_type": "markdown",
   "id": "26d8002c",
   "metadata": {},
   "source": [
    "\n",
    "### Problem\n",
    "You're given an integer N. Write a program to calculate the sum of all the digits of N.\n",
    "\n",
    "### Input\n",
    "The first line contains an integer T, the total number of testcases. Then follow T lines, each line contains an integer N.\n",
    "\n",
    "### Output\n",
    "For each test case, calculate the sum of digits of N, and display it in a new line."
   ]
  },
  {
   "cell_type": "markdown",
   "id": "a7e9d693",
   "metadata": {},
   "source": [
    "### Input\n",
    "\n",
    "3 \n",
    "\n",
    "12345\n",
    "\n",
    "31203\n",
    "\n",
    "2123\n",
    "\n",
    "### Output\n",
    "\n",
    "15\n",
    "\n",
    "9\n",
    "\n",
    "8"
   ]
  },
  {
   "cell_type": "code",
   "execution_count": 3,
   "id": "ccc8be8d",
   "metadata": {},
   "outputs": [
    {
     "name": "stdout",
     "output_type": "stream",
     "text": [
      "3\n",
      "12345\n",
      "15\n",
      "31203\n",
      "9\n",
      "2123\n",
      "8\n"
     ]
    }
   ],
   "source": [
    "n = int(input())\n",
    "\n",
    "for i in range(n):\n",
    "    x = input()\n",
    "    sum = 0\n",
    "    for j in range(len(x)):\n",
    "#         print(x[j])\n",
    "        sum = sum + int(x[j])\n",
    "    print(sum)\n"
   ]
  },
  {
   "cell_type": "code",
   "execution_count": null,
   "id": "de43d1f2",
   "metadata": {},
   "outputs": [],
   "source": []
  }
 ],
 "metadata": {
  "kernelspec": {
   "display_name": "Python 3 (ipykernel)",
   "language": "python",
   "name": "python3"
  },
  "language_info": {
   "codemirror_mode": {
    "name": "ipython",
    "version": 3
   },
   "file_extension": ".py",
   "mimetype": "text/x-python",
   "name": "python",
   "nbconvert_exporter": "python",
   "pygments_lexer": "ipython3",
   "version": "3.9.7"
  }
 },
 "nbformat": 4,
 "nbformat_minor": 5
}
