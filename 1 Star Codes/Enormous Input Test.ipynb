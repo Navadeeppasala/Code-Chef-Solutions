{
 "cells": [
  {
   "cell_type": "markdown",
   "id": "74180363",
   "metadata": {},
   "source": [
    "# Enormous Input Test"
   ]
  },
  {
   "cell_type": "markdown",
   "id": "1ff75042",
   "metadata": {},
   "source": [
    "### Problem\n",
    "The purpose of this problem is to verify whether the method you are using to read input data is sufficiently fast to handle problems branded with the enormous Input/Output warning. You are expected to be able to process at least 2.5MB of input data per second at runtime.\n",
    "\n",
    "### Input\n",
    "The input begins with two positive integers n k (n, k<=107). The next n lines of input contain one positive integer ti, not greater than 109, each.\n",
    "\n",
    "### Output\n",
    "Write a single integer to output, denoting how many integers ti are divisible by k."
   ]
  },
  {
   "cell_type": "markdown",
   "id": "12485f8f",
   "metadata": {},
   "source": [
    "### Sample input\n",
    "7 3\n",
    "\n",
    "1\n",
    "\n",
    "51\n",
    "\n",
    "966369\n",
    "\n",
    "7\n",
    "\n",
    "9\n",
    "\n",
    "999996\n",
    "\n",
    "11\n",
    "\n",
    "### Sample output\n",
    "4"
   ]
  },
  {
   "cell_type": "code",
   "execution_count": 6,
   "id": "f30f3597",
   "metadata": {},
   "outputs": [
    {
     "name": "stdout",
     "output_type": "stream",
     "text": [
      "7 3\n",
      "1\n",
      "51\n",
      "966369\n",
      "7\n",
      "9\n",
      "999996\n",
      "11\n",
      "4\n"
     ]
    }
   ],
   "source": [
    "(n, k) = map(int, input().split())\n",
    "\n",
    "ans = 0\n",
    "\n",
    "for i in range(n):\n",
    "    x = int(input())\n",
    "    if x % k == 0:\n",
    "        ans += 1\n",
    "\n",
    "print(ans)"
   ]
  },
  {
   "cell_type": "code",
   "execution_count": null,
   "id": "7e897163",
   "metadata": {},
   "outputs": [],
   "source": []
  }
 ],
 "metadata": {
  "kernelspec": {
   "display_name": "Python 3 (ipykernel)",
   "language": "python",
   "name": "python3"
  },
  "language_info": {
   "codemirror_mode": {
    "name": "ipython",
    "version": 3
   },
   "file_extension": ".py",
   "mimetype": "text/x-python",
   "name": "python",
   "nbconvert_exporter": "python",
   "pygments_lexer": "ipython3",
   "version": "3.9.7"
  }
 },
 "nbformat": 4,
 "nbformat_minor": 5
}
