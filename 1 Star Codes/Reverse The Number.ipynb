{
 "cells": [
  {
   "cell_type": "markdown",
   "id": "6b8a6b43",
   "metadata": {},
   "source": [
    "# Reverse The Number"
   ]
  },
  {
   "cell_type": "markdown",
   "id": "a11946a2",
   "metadata": {},
   "source": [
    "### Problem\n",
    "Given an Integer N, write a program to reverse it.\n",
    "\n",
    "### Input\n",
    "The first line contains an integer T, total number of testcases. Then follow T lines, each line contains an integer N.\n",
    "\n",
    "### Output\n",
    "For each test case, display the reverse of the given number N, in a new line."
   ]
  },
  {
   "cell_type": "markdown",
   "id": "a0b3bbe2",
   "metadata": {},
   "source": [
    "### Sample input\n",
    "4\n",
    "\n",
    "12345\n",
    "\n",
    "31203\n",
    "\n",
    "2123\n",
    "\n",
    "2300\n",
    "\n",
    "### Sample output\n",
    "54321\n",
    "\n",
    "30213\n",
    "\n",
    "3212\n",
    "\n",
    "32"
   ]
  },
  {
   "cell_type": "code",
   "execution_count": 28,
   "id": "f9e49e06",
   "metadata": {},
   "outputs": [
    {
     "name": "stdout",
     "output_type": "stream",
     "text": [
      "4\n",
      "12345\n",
      "54321\n",
      "31203\n",
      "30213\n",
      "212\n",
      "212\n",
      "2300\n",
      "32\n"
     ]
    }
   ],
   "source": [
    "t = int(input())\n",
    "for i in range(t):\n",
    "    reverse = 0\n",
    "    num = int(input())\n",
    "    while(num):\n",
    "        remainder = num%10\n",
    "        reverse =reverse*10+remainder\n",
    "        num = int(num/10)\n",
    "    print(reverse)\n"
   ]
  },
  {
   "cell_type": "code",
   "execution_count": null,
   "id": "484bebad",
   "metadata": {},
   "outputs": [],
   "source": []
  }
 ],
 "metadata": {
  "kernelspec": {
   "display_name": "Python 3 (ipykernel)",
   "language": "python",
   "name": "python3"
  },
  "language_info": {
   "codemirror_mode": {
    "name": "ipython",
    "version": 3
   },
   "file_extension": ".py",
   "mimetype": "text/x-python",
   "name": "python",
   "nbconvert_exporter": "python",
   "pygments_lexer": "ipython3",
   "version": "3.9.7"
  }
 },
 "nbformat": 4,
 "nbformat_minor": 5
}
