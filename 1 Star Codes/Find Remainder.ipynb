{
 "cells": [
  {
   "cell_type": "markdown",
   "id": "4f1bf319",
   "metadata": {},
   "source": [
    "# Find Remainder "
   ]
  },
  {
   "cell_type": "markdown",
   "id": "8d61cd9a",
   "metadata": {},
   "source": [
    "### Problem\n",
    "Write a program to find the remainder when an integer A is divided by an integer B.\n",
    "\n",
    "### Input\n",
    "The first line contains an integer T, the total number of test cases. Then T lines follow, each line contains two Integers A and B.\n",
    "\n",
    "### Output\n",
    "For each test case, find the remainder when A is divided by B, and display it in a new line."
   ]
  },
  {
   "cell_type": "markdown",
   "id": "f72e1037",
   "metadata": {},
   "source": [
    "### sample input\n",
    "3 \n",
    "\n",
    "1 2\n",
    "\n",
    "100 200\n",
    "\n",
    "40 15\n",
    "\n",
    "### sample output\n",
    "1\n",
    "\n",
    "100\n",
    "\n",
    "10"
   ]
  },
  {
   "cell_type": "code",
   "execution_count": 3,
   "id": "533f795e",
   "metadata": {},
   "outputs": [
    {
     "name": "stdout",
     "output_type": "stream",
     "text": [
      "3\n",
      "1 2\n",
      "1\n",
      "100 200\n",
      "100\n",
      "40 15\n",
      "10\n"
     ]
    }
   ],
   "source": [
    "n = int(input())\n",
    "for i in range(n):\n",
    "    a,b = map(int,input().split())\n",
    "    reminder = a%b\n",
    "    print(reminder)"
   ]
  },
  {
   "cell_type": "code",
   "execution_count": null,
   "id": "64f8a17e",
   "metadata": {},
   "outputs": [],
   "source": []
  }
 ],
 "metadata": {
  "kernelspec": {
   "display_name": "Python 3 (ipykernel)",
   "language": "python",
   "name": "python3"
  },
  "language_info": {
   "codemirror_mode": {
    "name": "ipython",
    "version": 3
   },
   "file_extension": ".py",
   "mimetype": "text/x-python",
   "name": "python",
   "nbconvert_exporter": "python",
   "pygments_lexer": "ipython3",
   "version": "3.9.7"
  }
 },
 "nbformat": 4,
 "nbformat_minor": 5
}
