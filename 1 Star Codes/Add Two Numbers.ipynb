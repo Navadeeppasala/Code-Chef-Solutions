{
 "cells": [
  {
   "cell_type": "markdown",
   "id": "3f738380",
   "metadata": {},
   "source": [
    "# Add Two Numbers"
   ]
  },
  {
   "cell_type": "markdown",
   "id": "399c4ca0",
   "metadata": {},
   "source": [
    "### Problem Statement\n",
    "- Every problem starts with a Problem Statement. It tells you in detail about the task to be solved.\n",
    "- Shivam is the youngest programmer in the world, he is just 12 years old. Shivam is learning programming and today he is writing his first program.\n",
    "\n",
    "- The task is very simple: given two integers A and B, write a program to add these two numbers and output it.\n",
    "\n",
    "### Input Format\n",
    "This section tells you the format in which your program should receive the input.\n",
    "The first line contains an integer T, the total number of test cases. Then follow T lines, each line contains two Integers A and B.\n",
    "\n",
    "### Output Format\n",
    "This section tells us the format in which your program should give the output\n",
    "For each test case, add A and B and display the sum in a new line.\n",
    "\n",
    "- Everything your program prints is considered “output”, so if you output some debugging statements like “Please enter T”, this will be considered as part of your answer, and because it does not satisfy the output format, it will be marked wrong, even if your answer is otherwise correct!"
   ]
  },
  {
   "cell_type": "markdown",
   "id": "a1ced8f8",
   "metadata": {},
   "source": [
    "### Sample input\n",
    "3\n",
    "\n",
    "1 2\n",
    "\n",
    "100 200\n",
    "\n",
    "10 40\n",
    "\n",
    "### Sample output\n",
    "3\n",
    "\n",
    "300\n",
    "\n",
    "50"
   ]
  },
  {
   "cell_type": "code",
   "execution_count": 10,
   "id": "f40160b8",
   "metadata": {},
   "outputs": [
    {
     "name": "stdout",
     "output_type": "stream",
     "text": [
      "3\n",
      "1 2\n",
      "3\n",
      "100 200\n",
      "300\n",
      "10 40\n",
      "50\n"
     ]
    }
   ],
   "source": [
    "n = int(input())\n",
    "for i in range(n):\n",
    "    a,b = map(int,input().split())\n",
    "    print(a+b)"
   ]
  },
  {
   "cell_type": "code",
   "execution_count": null,
   "id": "f7eea3d8",
   "metadata": {},
   "outputs": [],
   "source": []
  }
 ],
 "metadata": {
  "kernelspec": {
   "display_name": "Python 3 (ipykernel)",
   "language": "python",
   "name": "python3"
  },
  "language_info": {
   "codemirror_mode": {
    "name": "ipython",
    "version": 3
   },
   "file_extension": ".py",
   "mimetype": "text/x-python",
   "name": "python",
   "nbconvert_exporter": "python",
   "pygments_lexer": "ipython3",
   "version": "3.9.7"
  }
 },
 "nbformat": 4,
 "nbformat_minor": 5
}
