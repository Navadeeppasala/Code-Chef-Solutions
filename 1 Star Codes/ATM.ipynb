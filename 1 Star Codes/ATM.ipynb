{
 "cells": [
  {
   "cell_type": "markdown",
   "id": "d1ceac2c",
   "metadata": {},
   "source": [
    "# ATM"
   ]
  },
  {
   "cell_type": "markdown",
   "id": "12a645dc",
   "metadata": {},
   "source": [
    "### Problem\n",
    "Pooja would like to withdraw X dollor sign US from an ATM. The cash machine will only accept the transaction if X is a multiple of 5, and Pooja's account balance has enough cash to perform the withdrawal transaction (including bank charges). For each successful withdrawal the bank charges 0.50 dollor sign US.\n",
    "\n",
    "Calculate Pooja's account balance after an attempted transaction.\n",
    "\n",
    "### Input Format\n",
    "Each input contains 2 integers X and Y.\n",
    "X is the amount of cash which Pooja wishes to withdraw.\n",
    "Y is Pooja's initial account balance.\n",
    "\n",
    "### Output Format\n",
    "Output the account balance after the attempted transaction, given as a number with two digits of precision. If there is not enough money in the account to complete the transaction, output the current bank balance."
   ]
  },
  {
   "cell_type": "markdown",
   "id": "8524289a",
   "metadata": {},
   "source": [
    "### sample input\n",
    "30 120.00\n",
    "### sample output\n",
    "89.50\n",
    "\n",
    "### sample input\n",
    "42 120.00\n",
    "### sample output\n",
    "120.00\n",
    "\n",
    "### sample input\n",
    "300 120.00\n",
    "### sample output\n",
    "120.00"
   ]
  },
  {
   "cell_type": "code",
   "execution_count": 17,
   "id": "21441e04",
   "metadata": {},
   "outputs": [
    {
     "name": "stdout",
     "output_type": "stream",
     "text": [
      "300 120.00\n",
      "120.00\n"
     ]
    }
   ],
   "source": [
    "x,y = map(float,input().split())\n",
    "if (y+0.5<=y and x%5 ==0):\n",
    "    z = y-x-0.50\n",
    "    print(\"{:.2f}\".format(z))\n",
    "else:\n",
    "    print(\"{:.2f}\".format(y))\n",
    "    "
   ]
  }
 ],
 "metadata": {
  "kernelspec": {
   "display_name": "Python 3 (ipykernel)",
   "language": "python",
   "name": "python3"
  },
  "language_info": {
   "codemirror_mode": {
    "name": "ipython",
    "version": 3
   },
   "file_extension": ".py",
   "mimetype": "text/x-python",
   "name": "python",
   "nbconvert_exporter": "python",
   "pygments_lexer": "ipython3",
   "version": "3.9.7"
  }
 },
 "nbformat": 4,
 "nbformat_minor": 5
}
