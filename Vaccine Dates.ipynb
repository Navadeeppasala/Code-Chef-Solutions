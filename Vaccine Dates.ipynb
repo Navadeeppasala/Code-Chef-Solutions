{
 "cells": [
  {
   "cell_type": "code",
   "execution_count": null,
   "id": "b0d26199",
   "metadata": {},
   "outputs": [],
   "source": []
  },
  {
   "cell_type": "markdown",
   "id": "781603bb",
   "metadata": {},
   "source": [
    "## Problem\n",
    "Chef has taken his first dose of vaccine D days ago. He may take the second dose no less than L days and no more than R days since his first dose.\n",
    "\n",
    "Determine if Chef is too early, too late, or in the correct range for taking his second dose.\n",
    "\n",
    "## Input Format\n",
    "- First line will contain TT, number of testcases. Then the testcases follow.\n",
    "- Each testcase contains of a single line of input, three integers D, L, RD,L,R.\n",
    "\n",
    "## Output Format\n",
    "- For each test case, print a single line containing one string - \"Too Early\" (without quotes) if it's too early to take the vaccine, \"Too Late\" (without quotes) if it's too late to take the vaccine, \"Take second dose now\" (without quotes) if it's the correct time to take the vaccine."
   ]
  },
  {
   "cell_type": "markdown",
   "id": "7a7c91bf",
   "metadata": {},
   "source": [
    "## Sample input\n",
    "4\n",
    "\n",
    "10 8 12 \n",
    "\n",
    "14 2 10\n",
    "\n",
    "4444 5555 6666 \n",
    "\n",
    "8 8 12\n",
    "\n",
    "## sample Output\n",
    "Take second dose now\n",
    "\n",
    "Too Late\n",
    "\n",
    "Too Early\n",
    "\n",
    "Take second dose now"
   ]
  },
  {
   "cell_type": "code",
   "execution_count": 2,
   "id": "dc8646ff",
   "metadata": {},
   "outputs": [
    {
     "name": "stdout",
     "output_type": "stream",
     "text": [
      "4\n",
      "10 8 12\n",
      "Take second dose now\n",
      "14 2 10\n",
      "Too Late\n",
      "4444 5555 6666\n",
      "Too Early\n",
      "8 8 12\n",
      "Take second dose now\n"
     ]
    }
   ],
   "source": [
    "num = int(input())\n",
    "for i in range(num):\n",
    "    d,l,r = input().split()\n",
    "    d = int(d)\n",
    "    l = int(l)\n",
    "    r = int(r)\n",
    "    if d>=l and d<=r:\n",
    "        print(\"Take second dose now\")\n",
    "    elif d>l and d>r:\n",
    "        print(\"Too Late\")\n",
    "    elif d<l and d<r:\n",
    "        print('Too Early')"
   ]
  },
  {
   "cell_type": "code",
   "execution_count": null,
   "id": "c997947a",
   "metadata": {},
   "outputs": [],
   "source": []
  }
 ],
 "metadata": {
  "kernelspec": {
   "display_name": "Python 3 (ipykernel)",
   "language": "python",
   "name": "python3"
  },
  "language_info": {
   "codemirror_mode": {
    "name": "ipython",
    "version": 3
   },
   "file_extension": ".py",
   "mimetype": "text/x-python",
   "name": "python",
   "nbconvert_exporter": "python",
   "pygments_lexer": "ipython3",
   "version": "3.9.7"
  }
 },
 "nbformat": 4,
 "nbformat_minor": 5
}
